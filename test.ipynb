{
 "cells": [
  {
   "cell_type": "code",
   "execution_count": 2,
   "metadata": {},
   "outputs": [
    {
     "name": "stdout",
     "output_type": "stream",
     "text": [
      "(28355, 11)\n",
      "(28355,) (28355,)\n"
     ]
    }
   ],
   "source": [
    "import numpy as np\n",
    "\n",
    "data = np.load('D_result_test_ctru_by_time.npy')\n",
    "print(data.shape)\n",
    "label = data[:, -6]\n",
    "pred = data[:, -1]\n",
    "print(label.shape, pred.shape)\n",
    "np.save('./data/label_D_50_110_random.npy', label)\n",
    "np.save('./data/pred_D_50_110_random.npy', pred)"
   ]
  }
 ],
 "metadata": {
  "kernelspec": {
   "display_name": "py39",
   "language": "python",
   "name": "python3"
  },
  "language_info": {
   "codemirror_mode": {
    "name": "ipython",
    "version": 3
   },
   "file_extension": ".py",
   "mimetype": "text/x-python",
   "name": "python",
   "nbconvert_exporter": "python",
   "pygments_lexer": "ipython3",
   "version": "3.9.19"
  }
 },
 "nbformat": 4,
 "nbformat_minor": 2
}
